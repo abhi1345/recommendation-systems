{
 "cells": [
  {
   "cell_type": "code",
   "execution_count": 280,
   "metadata": {},
   "outputs": [],
   "source": [
    "import numpy as np\n",
    "import pandas as pd\n",
    "import matplotlib.pyplot as plt\n",
    "import scipy\n",
    "from scipy.io import loadmat\n",
    "from numpy.random import logistic\n",
    "import random\n",
    "from scipy.special import expit as sigmoid"
   ]
  },
  {
   "cell_type": "markdown",
   "metadata": {},
   "source": [
    "# CS 189 Homework 4"
   ]
  },
  {
   "cell_type": "code",
   "execution_count": 9,
   "metadata": {},
   "outputs": [
    {
     "name": "stdout",
     "output_type": "stream",
     "text": [
      "s0:  [0.95257413 0.73105858 0.73105858 0.26894142]\n",
      "w1:  [-2.52944273  0.66772961  1.14165334]\n",
      "s1:  [0.95870501 0.6491715  0.85928728 0.32737982]\n",
      "w2:  [-3.24293197  0.19326062  2.67607706]\n"
     ]
    }
   ],
   "source": [
    "w0 = np.array([-2.0, 1.0, 0.0])\n",
    "lam = 0.07\n",
    "X = np.array([[0,3,1], [1,3,1], [0,1,1], [1,1,1]])\n",
    "y = np.array([1, 1, 0, 0])\n",
    "\n",
    "s0 = sigmoid(np.dot(X, w0))\n",
    "\n",
    "print('s0: ', s0)\n",
    "\n",
    "w1 = w0 + np.dot(np.linalg.inv(2*lam*np.identity(3) + np.matmul(np.dot(X.T, np.diagflat(s0)), X)), (2*lam*w0 - np.dot(X.T, y - s0)))\n",
    "\n",
    "print('w1: ',w1)\n",
    "\n",
    "s1 = sigmoid(np.dot(X, w1))\n",
    "\n",
    "print('s1: ',s1)\n",
    "\n",
    "w2 = w1 + np.dot(np.linalg.inv(2*lam*np.identity(3) + np.dot(np.dot(X.T, np.diagflat(s1)), X)), (2*lam*w1 - np.dot(X.T, y - s1)))\n",
    "\n",
    "print('w2: ',w2)"
   ]
  },
  {
   "cell_type": "code",
   "execution_count": null,
   "metadata": {},
   "outputs": [],
   "source": []
  },
  {
   "cell_type": "code",
   "execution_count": 10,
   "metadata": {},
   "outputs": [],
   "source": [
    "train_x, train_y, test_x = loadmat(\"data.mat\")['X'], loadmat(\"data.mat\")['y'], loadmat(\"data.mat\")['X_test']"
   ]
  },
  {
   "cell_type": "code",
   "execution_count": 11,
   "metadata": {},
   "outputs": [],
   "source": [
    "#train_x[0], train_y[0]"
   ]
  },
  {
   "cell_type": "markdown",
   "metadata": {},
   "source": [
    "## Question 4: Wine Classification with Logistic Regression"
   ]
  },
  {
   "cell_type": "markdown",
   "metadata": {},
   "source": [
    "### 4a) Batch GD"
   ]
  },
  {
   "cell_type": "markdown",
   "metadata": {},
   "source": [
    "#### Batch GD Equation\n",
    "#### Parameters: $\\epsilon$ =  0.0001, iterations = 100000, $\\lambda$  = 0.00006\n",
    "### $ w = w -  \\epsilon ( -X^T(y - s(Xw)) + 2\\lambda w)  $"
   ]
  },
  {
   "cell_type": "code",
   "execution_count": 152,
   "metadata": {},
   "outputs": [],
   "source": [
    "class GD_model:\n",
    "    def __init__(self, d):\n",
    "        self.w = np.array([random.random()*2 - 1 for i in range(d+1)]).reshape(d+1, 1)\n",
    "        self.reg_param = 1\n",
    "    \n",
    "    def train(self, X, y, epsilon, iterations):\n",
    "        X = np.insert(X, 12, 1, axis=1)\n",
    "        for i in range(iterations):\n",
    "            term = epsilon * self.cost(X, y, batch = True)\n",
    "            self.w += term\n",
    "            \n",
    "    def reformat(self, x, batch = False):\n",
    "        if batch:\n",
    "            if np.shape(x)[1] < 13:\n",
    "                x = np.insert(x, 12, 1, axis=1)\n",
    "            x = np.reshape(x, (len(x), 13, 1))\n",
    "        else:\n",
    "            if len(x) < 13:\n",
    "                x = np.append(x, 1)\n",
    "            x = x.reshape(13, 1)\n",
    "        return x\n",
    "\n",
    "    def fn(self, x, batch = False):\n",
    "        x = self.reformat(x, batch)\n",
    "        if batch:\n",
    "            x = np.reshape(x, (len(x), 13,))\n",
    "            inner_term = np.matmul(x, self.w)\n",
    "        else:\n",
    "            inner_term = np.dot(x.T, self.w)\n",
    "        output = sigmoid(inner_term).reshape(len(inner_term), 1)\n",
    "        one_rep = 1 - np.finfo(float).eps\n",
    "        np.place(output, output == 1.0, [one_rep])\n",
    "        np.place(output, output == 0.0, [np.finfo(float).eps])\n",
    "        return output\n",
    "    \n",
    "    def classify(self, x, tie_breaker, batch = False):\n",
    "        x = self.reformat(x, batch)\n",
    "        #print(x)\n",
    "        f_out = self.fn(x, batch)\n",
    "        return np.heaviside(f_out - 0.5, tie_breaker)\n",
    "    \n",
    "    def cost(self, X, y, batch = False):\n",
    "        #gradient of cost\n",
    "        lam = self.reg_param\n",
    "        self.w.reshape(len(self.w), )\n",
    "        answer = np.dot(X.T, y - self.fn(X, batch)) - (2*lam*self.w)\n",
    "        self.w.reshape(len(self.w), 1)\n",
    "        return answer\n",
    "    \n",
    "    def base_cost(self, X, y, batch = True):\n",
    "        #regular cost\n",
    "        lam = self.reg_param\n",
    "        s = 0\n",
    "        i = 0\n",
    "        losses = self.loss(X, y, True)\n",
    "        #print('nans', self.fn(X, batch)[np.argwhere(np.isnan(losses))])\n",
    "        for row in X:\n",
    "            l = losses[i]\n",
    "            if np.isnan(l):\n",
    "                print(self.fn(row))\n",
    "            w = np.reshape(self.w, 13, )\n",
    "            s += l + lam*np.inner(w, w)\n",
    "            i += 1\n",
    "        return s / i\n",
    "            \n",
    "    def loss(self, x, y, batch):\n",
    "        #single value loss\n",
    "        yhat = self.fn(x, batch)\n",
    "        return -y * np.log(yhat) - (1-y)*np.log(1 - yhat)\n",
    "    \n",
    "    def cost_plot(self, X, y, iterations=800):\n",
    "        epsilon = 0.0000001\n",
    "        sizes = np.arange(1, iterations-1, 5)\n",
    "        plt_y = np.array([])\n",
    "        X = np.insert(X, 12, 1, axis=1)\n",
    "        for i in range(iterations):\n",
    "            term = self.cost(X, y, batch = True)\n",
    "            self.w += term*epsilon\n",
    "            if i in sizes:\n",
    "                plt_y = np.append(plt_y, self.base_cost(X, y))\n",
    "        plt.plot(sizes, plt_y, color = \"red\")\n",
    "        plt.xlabel(\"Iterations\")\n",
    "        plt.ylabel(\"Cost (l2 regularized)\")\n",
    "        plt.title(\"Batched Gradient Descent Cost over time\")\n",
    "        \n",
    "        #return (plt_y)\n",
    "         "
   ]
  },
  {
   "cell_type": "code",
   "execution_count": 902,
   "metadata": {},
   "outputs": [
    {
     "data": {
      "image/png": "[encoded data removed]",
      "text/plain": [
       "<Figure size 432x288 with 1 Axes>"
      ]
     },
     "metadata": {
      "needs_background": "light"
     },
     "output_type": "display_data"
    }
   ],
   "source": [
    "first_model = GD_model(len(train_x[0]))\n",
    "first_model.cost_plot(train_x, train_y)"
   ]
  },
  {
   "cell_type": "code",
   "execution_count": 230,
   "metadata": {},
   "outputs": [
    {
     "data": {
      "text/plain": [
       "array([18.03091292])"
      ]
     },
     "execution_count": 230,
     "metadata": {},
     "output_type": "execute_result"
    }
   ],
   "source": [
    "#first_model = GD_model(len(train_x[0]))\n",
    "first_model.reg_param = 1\n",
    "first_model.train(train_x, train_y, .0000001, 100000)\n",
    "first_model.base_cost(train_x, train_y, batch = True)"
   ]
  },
  {
   "cell_type": "code",
   "execution_count": 231,
   "metadata": {},
   "outputs": [
    {
     "data": {
      "text/plain": [
       "0.9676612768794799"
      ]
     },
     "execution_count": 231,
     "metadata": {},
     "output_type": "execute_result"
    }
   ],
   "source": [
    "#Batch Gradient Descent Accuracy\n",
    "e = 0\n",
    "for i in range(len(train_x)):\n",
    "    pred, real = first_model.classify(train_x[i], 1), train_y[i]\n",
    "    #print(\"Real:{}, Prediction: {}\".format(pred, real))\n",
    "    if real == pred:\n",
    "        e += 1\n",
    "    else:\n",
    "        pass\n",
    "        #print(first_model.fn(train_x[i]), train_y[i])\n",
    "e/i"
   ]
  },
  {
   "cell_type": "code",
   "execution_count": 176,
   "metadata": {},
   "outputs": [],
   "source": [
    "saved_params = first_model.w"
   ]
  },
  {
   "cell_type": "code",
   "execution_count": 229,
   "metadata": {},
   "outputs": [
    {
     "data": {
      "text/plain": [
       "array([[333.76861208],\n",
       "       [ 65.97028739],\n",
       "       [ -7.60164012],\n",
       "       [-37.23017301],\n",
       "       [ 11.74687383],\n",
       "       [ 11.55807342],\n",
       "       [-37.59962368],\n",
       "       [ 23.11108048],\n",
       "       [104.71125119],\n",
       "       [ 51.66538476],\n",
       "       [ 15.34012231],\n",
       "       [  2.2616782 ],\n",
       "       [ 22.23356692]])"
      ]
     },
     "execution_count": 229,
     "metadata": {},
     "output_type": "execute_result"
    }
   ],
   "source": [
    "saved_params"
   ]
  },
  {
   "cell_type": "markdown",
   "metadata": {},
   "source": [
    "### 4b) Stochastic GD"
   ]
  },
  {
   "cell_type": "markdown",
   "metadata": {},
   "source": [
    "## Update Rule\n",
    "\n",
    "$w^{t+1} \\leftarrow w^t - \\epsilon \\nabla_{w, i} J = w^t − \\epsilon[−X_i^\\intercal (y_i - s(X_iw)) + 2\\lambda w]$"
   ]
  },
  {
   "cell_type": "code",
   "execution_count": 765,
   "metadata": {},
   "outputs": [],
   "source": [
    "class SGD_model:\n",
    "    def __init__(self, d):\n",
    "        self.w = np.array([0.0]*(d+1)).reshape(d+1, 1)\n",
    "    \n",
    "    def train(self, X, y, epsilon, iterations):\n",
    "        X = np.insert(X, 12, 1, axis=1)\n",
    "        for i in range(iterations):\n",
    "            index = np.random.randint(0, len(X), 1)\n",
    "            term = epsilon * self.cost(X[index], y[index], batch = False)\n",
    "            self.w += term\n",
    "            \n",
    "    def reformat(self, x, batch = False):\n",
    "        if batch:\n",
    "            if np.shape(x)[1] < 13:\n",
    "                x = np.insert(x, 12, 1, axis=1)\n",
    "            x = np.reshape(x, (len(x), 13, 1))\n",
    "        else:\n",
    "            x = np.ndarray.flatten(x)\n",
    "            if len(x) < 13:\n",
    "                x = np.append(x, 1)\n",
    "            #print(x)\n",
    "            \n",
    "            x = x.reshape(13, 1)\n",
    "        \n",
    "        return x\n",
    "\n",
    "    def fn(self, x, batch = False):\n",
    "        x = self.reformat(x, batch)\n",
    "        if batch:\n",
    "            x = np.reshape(x, (len(x), 13,))\n",
    "            inner_term = np.matmul(x, self.w)\n",
    "        else:\n",
    "            inner_term = np.dot(x.T, self.w)\n",
    "        output = sigmoid(inner_term).reshape(len(inner_term), 1)\n",
    "        np.place(output, output == 1.0, [0.9999999])\n",
    "        np.place(output, output == 0.0, [0.00000001])\n",
    "        return output\n",
    "    \n",
    "    def classify(self, x, batch = False):\n",
    "        x = self.reformat(x, batch)\n",
    "        #print(x)\n",
    "        f_out = self.fn(x, batch)\n",
    "        return np.heaviside(f_out - 0.5, 1)\n",
    "    \n",
    "    def cost(self, X, y, batch = False, lam = 0.0001):\n",
    "        self.w.reshape(len(self.w), )\n",
    "        answer = np.dot(X.T, y - self.fn(X, batch)) - (2*lam*self.w)\n",
    "        self.w.reshape(len(self.w), 1)\n",
    "        return answer\n",
    "    \n",
    "    def base_cost(self, X, y, batch = True, lam = 0.00006):\n",
    "        s = 0\n",
    "        i = 0\n",
    "        losses = self.loss(X, y, True)\n",
    "        #print('nans', self.fn(X, batch)[np.argwhere(np.isnan(losses))])\n",
    "        for row in X:\n",
    "            l = losses[i]\n",
    "            if np.isnan(l):\n",
    "                print(self.fn(row))\n",
    "            w = np.reshape(self.w, 13, )\n",
    "            s += l + lam*np.inner(w, w)\n",
    "            i += 1\n",
    "        return s / i\n",
    "            \n",
    "    def loss(self, x, y, batch):\n",
    "        #single value loss\n",
    "        yhat = self.fn(x, batch)\n",
    "        return -y * np.log(yhat) - (1-y) * np.log(1 - yhat)\n",
    "    \n",
    "    def cost_plot(self, X, y, iterations=100001):\n",
    "        epsilon = 0.0000001\n",
    "        sizes = np.arange(200, iterations-1, 500)\n",
    "        plt_y = np.array([])\n",
    "        X = np.insert(X, 12, 1, axis=1)\n",
    "        for i in range(iterations):\n",
    "            term = self.cost(X, y, batch = True)\n",
    "            self.w += term*epsilon\n",
    "            if i in sizes:\n",
    "                plt_y = np.append(plt_y, self.base_cost(X, y))\n",
    "        plt.plot(sizes, plt_y, color=\"green\")\n",
    "        plt.title(\"Stochastic Gradient Descent Cost over Time\")\n",
    "        plt.xlabel(\"Iterations\")\n",
    "        plt.ylabel(\"Cost (l2 regularized)\")\n",
    "        \n",
    "        #return (plt_y)\n",
    "         "
   ]
  },
  {
   "cell_type": "code",
   "execution_count": 766,
   "metadata": {},
   "outputs": [],
   "source": [
    "#second_model = SGD_model(12)\n",
    "#second_model.train(train_x, train_y, 0.0001, 10000)"
   ]
  },
  {
   "cell_type": "code",
   "execution_count": 767,
   "metadata": {},
   "outputs": [
    {
     "data": {
      "image/png": "[encoded data removed]",
      "text/plain": [
       "<Figure size 432x288 with 1 Axes>"
      ]
     },
     "metadata": {
      "needs_background": "light"
     },
     "output_type": "display_data"
    }
   ],
   "source": [
    "second_model = SGD_model(12)\n",
    "second_model.cost_plot(train_x, train_y)"
   ]
  },
  {
   "cell_type": "code",
   "execution_count": 772,
   "metadata": {},
   "outputs": [
    {
     "data": {
      "text/plain": [
       "0.9736622770461744"
      ]
     },
     "execution_count": 772,
     "metadata": {},
     "output_type": "execute_result"
    }
   ],
   "source": [
    "#Stochastic Gradient Descent Training Accuracy\n",
    "e = 0\n",
    "for i in range(len(train_x)):\n",
    "    pred, real = second_model.classify(train_x[i]), train_y[i]\n",
    "    #print(\"Real:{}, Prediction: {}\".format(pred, real))\n",
    "    if real == pred:\n",
    "        e += 1\n",
    "e/i"
   ]
  },
  {
   "cell_type": "markdown",
   "metadata": {},
   "source": [
    "### 4c) Decreasing Learning Rate"
   ]
  },
  {
   "cell_type": "code",
   "execution_count": 276,
   "metadata": {},
   "outputs": [],
   "source": [
    "class SGD_dec_model:\n",
    "    def __init__(self, d):\n",
    "        self.w = np.array([0.0]*(d+1)).reshape(d+1, 1)\n",
    "    \n",
    "    def train(self, X, y, iterations):\n",
    "        X = np.insert(X, 12, 1, axis=1)\n",
    "        for i in range(1, iterations):\n",
    "            index = np.random.randint(0, len(X), 1)\n",
    "            term = 1/i * self.cost(X[index], y[index], batch = False)\n",
    "            self.w += term\n",
    "            \n",
    "    def reformat(self, x, batch = False):\n",
    "        if batch:\n",
    "            if np.shape(x)[1] < 13:\n",
    "                x = np.insert(x, 12, 1, axis=1)\n",
    "            x = np.reshape(x, (len(x), 13, 1))\n",
    "        else:\n",
    "            x = np.ndarray.flatten(x)\n",
    "            if len(x) < 13:\n",
    "                x = np.append(x, 1)\n",
    "            #print(x)\n",
    "            \n",
    "            x = x.reshape(13, 1)\n",
    "        \n",
    "        return x\n",
    "\n",
    "    def fn(self, x, batch = False):\n",
    "        x = self.reformat(x, batch)\n",
    "        if batch:\n",
    "            x = np.reshape(x, (len(x), 13,))\n",
    "            inner_term = np.matmul(x, self.w)\n",
    "        else:\n",
    "            inner_term = np.dot(x.T, self.w)\n",
    "        output = sigmoid(inner_term).reshape(len(inner_term), 1)\n",
    "        np.place(output, output == 1.0, [0.9999999])\n",
    "        np.place(output, output == 0.0, [0.00000001])\n",
    "        return output\n",
    "    \n",
    "    def classify(self, x, batch = False):\n",
    "        x = self.reformat(x, batch)\n",
    "        #print(x)\n",
    "        f_out = self.fn(x, batch)\n",
    "        return np.heaviside(f_out - 0.5, 1)\n",
    "    \n",
    "    def cost(self, X, y, batch = False, lam = 0.06):\n",
    "        self.w.reshape(len(self.w), )\n",
    "        answer = np.dot(X.T, y - self.fn(X, batch)) - (2*lam*self.w)\n",
    "        self.w.reshape(len(self.w), 1)\n",
    "        return answer\n",
    "    \n",
    "    def base_cost(self, X, y, batch = True, lam = 0.00006):\n",
    "        s = 0\n",
    "        i = 0\n",
    "        losses = self.loss(X, y, True)\n",
    "        #print('nans', self.fn(X, batch)[np.argwhere(np.isnan(losses))])\n",
    "        for row in X:\n",
    "            l = losses[i]\n",
    "            if np.isnan(l):\n",
    "                print(self.fn(row))\n",
    "            w = np.reshape(self.w, 13, )\n",
    "            s += l + lam*np.inner(w, w)\n",
    "            i += 1\n",
    "        return s / i\n",
    "            \n",
    "    def loss(self, x, y, batch):\n",
    "        #single value loss\n",
    "        yhat = self.fn(x, batch)\n",
    "        return -y * np.log(yhat) - (1-y) * np.log(1 - yhat)\n",
    "    \n",
    "    def cost_plot(self, X, y, iterations=100001):\n",
    "        epsilon = 100\n",
    "        sizes = np.arange(8000, iterations-1, 300)\n",
    "        plt_y = np.array([])\n",
    "        X = np.insert(X, 12, 1, axis=1)\n",
    "        for i in range(1, iterations):\n",
    "            term = self.cost(X, y, batch = True)\n",
    "            self.w += term * epsilon/i\n",
    "            if i in sizes:\n",
    "                plt_y = np.append(plt_y, self.base_cost(X, y))\n",
    "        plt.plot(sizes, plt_y)\n",
    "        plt.title(\"Decreasing Learning Rate Cost over Time\")\n",
    "        plt.xlabel(\"Iterations\")\n",
    "        plt.ylabel(\"Cost (l2 regularized)\")\n",
    "        print(plt_y[-1], '= final cost')\n",
    "         "
   ]
  },
  {
   "cell_type": "code",
   "execution_count": 277,
   "metadata": {},
   "outputs": [
    {
     "name": "stdout",
     "output_type": "stream",
     "text": [
      "95.68242719028704 = final cost\n"
     ]
    },
    {
     "data": {
      "image/png": "[encoded data removed]",
      "text/plain": [
       "<Figure size 432x288 with 1 Axes>"
      ]
     },
     "metadata": {
      "needs_background": "light"
     },
     "output_type": "display_data"
    }
   ],
   "source": [
    "third_model = SGD_dec_model(12)\n",
    "third_model.cost_plot(train_x, train_y)"
   ]
  },
  {
   "cell_type": "code",
   "execution_count": 279,
   "metadata": {},
   "outputs": [
    {
     "data": {
      "text/plain": [
       "0.9483247207867977"
      ]
     },
     "execution_count": 279,
     "metadata": {},
     "output_type": "execute_result"
    }
   ],
   "source": [
    "#Stochastic Gradient Descent with Decreasing Learning Rate Training Accuracy\n",
    "#third_model.train(train_x, train_y, 10000)\n",
    "e = 0\n",
    "for i in range(len(train_x)):\n",
    "    pred, real = third_model.classify(train_x[i]), train_y[i]\n",
    "    #print(\"Real:{}, Prediction: {}\".format(pred, real))\n",
    "    if real == pred:\n",
    "        e += 1\n",
    "e/i"
   ]
  },
  {
   "cell_type": "markdown",
   "metadata": {},
   "source": [
    "### The cost seems to be converging to a larger value than the previous version of SGD. This must be due to the relatively large starting step sizes."
   ]
  },
  {
   "cell_type": "markdown",
   "metadata": {},
   "source": [
    "## 4d) Kaggle"
   ]
  },
  {
   "cell_type": "code",
   "execution_count": 179,
   "metadata": {},
   "outputs": [
    {
     "name": "stdout",
     "output_type": "stream",
     "text": [
      "Done with 1e-07\n",
      "Done with 5e-07\n",
      "Done with 1e-05\n",
      "Done with 2e-05\n",
      "Done with 5e-05\n",
      "Done with 0.001\n",
      "Done with 0.07\n",
      "Done with 0.1\n",
      "Done with 1\n",
      "Done with 2\n",
      "Done with 5\n"
     ]
    },
    {
     "data": {
      "image/png": "[encoded data removed]",
      "text/plain": [
       "<Figure size 432x288 with 1 Axes>"
      ]
     },
     "metadata": {
      "needs_background": "light"
     },
     "output_type": "display_data"
    }
   ],
   "source": [
    "#Validation for BGD\n",
    "def unison_shuffled_copies(a, b):\n",
    "    assert len(a) == len(b)\n",
    "    p = np.random.permutation(len(a))\n",
    "    return a[p], b[p]\n",
    "\n",
    "shuffled_x, shuffled_y = unison_shuffled_copies(train_x, train_y)\n",
    "split = int(len(shuffled_x)*0.8)\n",
    "val_x, val_y = shuffled_x[split:], shuffled_y[split:]\n",
    "temp_trainx, temp_trainy = shuffled_x[:split], shuffled_y[:split]\n",
    "\n",
    "ploty = []\n",
    "lams = [0.0000001, 0.0000005, 0.00001, 0.00002, 0.00005, 0.001, 0.07, 0.1, 1, 2, 5, 10, 20]\n",
    "for lam in lams:\n",
    "    model = GD_model(12)\n",
    "    model.reg_param = lam\n",
    "    model.train(temp_trainx, temp_trainy, 0.0000001, 5000)\n",
    "    \n",
    "    e = 0\n",
    "    for i in range(len(val_x)):\n",
    "        pred, real = model.classify(val_x[i], 1), val_y[i]\n",
    "        #print(\"Real:{}, Prediction: {}\".format(pred, real))\n",
    "        if real == pred:\n",
    "            e += 1\n",
    "    ploty.append(e/i)\n",
    "    \n",
    "    print(\"Done with {}\".format(lam))\n",
    "    \n",
    "plt.scatter(lams, ploty)\n",
    "plt.title(\"Validation Accuracy\")\n",
    "plt.show()"
   ]
  },
  {
   "cell_type": "code",
   "execution_count": 185,
   "metadata": {},
   "outputs": [],
   "source": [
    "# A code snippet to help you save your results into a kaggle accepted csv\n",
    "import pandas as pd\n",
    "import numpy as np\n",
    "\n",
    "# Usage results_to_csv(clf.predict(X_test))\n",
    "def results_to_csv(y_test, string):\n",
    "    y_test = y_test.astype(int)\n",
    "    df = pd.DataFrame({'Category': y_test})\n",
    "    df.index += 1  # Ensures that the index starts at 1. \n",
    "    df.to_csv(string + '_submission.csv', index_label='Id')\n",
    "\n",
    "def model_export(model, test_x, string = \"\"):\n",
    "    ans = np.array([float(model.classify(point, 1)) for point in test_x])\n",
    "    results_to_csv(ans, string)"
   ]
  },
  {
   "cell_type": "code",
   "execution_count": 186,
   "metadata": {},
   "outputs": [],
   "source": [
    "model_export(first_model, test_x, \"up to 9846 percent\")"
   ]
  },
  {
   "cell_type": "code",
   "execution_count": 96,
   "metadata": {},
   "outputs": [
    {
     "data": {
      "text/plain": [
       "2.220446049250313e-16"
      ]
     },
     "execution_count": 96,
     "metadata": {},
     "output_type": "execute_result"
    }
   ],
   "source": []
  },
  {
   "cell_type": "code",
   "execution_count": null,
   "metadata": {},
   "outputs": [],
   "source": []
  }
 ],
 "metadata": {
  "kernelspec": {
   "display_name": "Python 3",
   "language": "python",
   "name": "python3"
  },
  "language_info": {
   "codemirror_mode": {
    "name": "ipython",
    "version": 3
   },
   "file_extension": ".py",
   "mimetype": "text/x-python",
   "name": "python",
   "nbconvert_exporter": "python",
   "pygments_lexer": "ipython3",
   "version": "3.6.6"
  }
 },
 "nbformat": 4,
 "nbformat_minor": 2
}
