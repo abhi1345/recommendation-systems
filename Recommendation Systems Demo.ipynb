{
 "cells": [
  {
   "cell_type": "code",
   "execution_count": 1,
   "metadata": {},
   "outputs": [],
   "source": [
    "from PopularitySystem import * \n",
    "from ClassificationSystem import *\n",
    "#from ContentSystem import *\n",
    "from ModelSystem import *\n",
    "from CorrelationSystem import *\n",
    "import warnings\n",
    "warnings.filterwarnings('ignore')"
   ]
  },
  {
   "cell_type": "markdown",
   "metadata": {},
   "source": [
    "# Popularity Based Recommendation System\n",
    "#### Recommends restaurants by popularity, determined by amount of reviews."
   ]
  },
  {
   "cell_type": "code",
   "execution_count": 2,
   "metadata": {},
   "outputs": [
    {
     "data": {
      "text/html": [
       "<div>\n",
       "<style scoped>\n",
       "    .dataframe tbody tr th:only-of-type {\n",
       "        vertical-align: middle;\n",
       "    }\n",
       "\n",
       "    .dataframe tbody tr th {\n",
       "        vertical-align: top;\n",
       "    }\n",
       "\n",
       "    .dataframe thead th {\n",
       "        text-align: right;\n",
       "    }\n",
       "</style>\n",
       "<table border=\"1\" class=\"dataframe\">\n",
       "  <thead>\n",
       "    <tr style=\"text-align: right;\">\n",
       "      <th></th>\n",
       "      <th>name</th>\n",
       "      <th>address</th>\n",
       "      <th>zip</th>\n",
       "      <th>alcohol</th>\n",
       "      <th>smoking_area</th>\n",
       "      <th>dress_code</th>\n",
       "      <th>accessibility</th>\n",
       "      <th>price</th>\n",
       "      <th>url</th>\n",
       "      <th>placeID</th>\n",
       "    </tr>\n",
       "  </thead>\n",
       "  <tbody>\n",
       "    <tr>\n",
       "      <th>0</th>\n",
       "      <td>Tortas Locas Hipocampo</td>\n",
       "      <td>Venustiano Carranza 719 Centro</td>\n",
       "      <td>78000</td>\n",
       "      <td>No_Alcohol_Served</td>\n",
       "      <td>not permitted</td>\n",
       "      <td>informal</td>\n",
       "      <td>no_accessibility</td>\n",
       "      <td>medium</td>\n",
       "      <td>?</td>\n",
       "      <td>135085</td>\n",
       "    </tr>\n",
       "    <tr>\n",
       "      <th>1</th>\n",
       "      <td>puesto de tacos</td>\n",
       "      <td>esquina santos degollado y leon guzman</td>\n",
       "      <td>78280</td>\n",
       "      <td>No_Alcohol_Served</td>\n",
       "      <td>none</td>\n",
       "      <td>informal</td>\n",
       "      <td>completely</td>\n",
       "      <td>low</td>\n",
       "      <td>?</td>\n",
       "      <td>132825</td>\n",
       "    </tr>\n",
       "    <tr>\n",
       "      <th>2</th>\n",
       "      <td>Cafeteria y Restaurant El Pacifico</td>\n",
       "      <td>Constitucion 200 Centro</td>\n",
       "      <td>78000</td>\n",
       "      <td>Wine-Beer</td>\n",
       "      <td>section</td>\n",
       "      <td>informal</td>\n",
       "      <td>no_accessibility</td>\n",
       "      <td>medium</td>\n",
       "      <td>?</td>\n",
       "      <td>135032</td>\n",
       "    </tr>\n",
       "    <tr>\n",
       "      <th>4</th>\n",
       "      <td>La Cantina Restaurante</td>\n",
       "      <td>Ignacio Aldama 300 Centro</td>\n",
       "      <td>78000</td>\n",
       "      <td>Full_Bar</td>\n",
       "      <td>none</td>\n",
       "      <td>informal</td>\n",
       "      <td>no_accessibility</td>\n",
       "      <td>high</td>\n",
       "      <td>lacantinaslp.com</td>\n",
       "      <td>135052</td>\n",
       "    </tr>\n",
       "    <tr>\n",
       "      <th>6</th>\n",
       "      <td>Gorditas Doa Gloria</td>\n",
       "      <td>sevilla y olmedo 715 a</td>\n",
       "      <td>78349</td>\n",
       "      <td>No_Alcohol_Served</td>\n",
       "      <td>not permitted</td>\n",
       "      <td>casual</td>\n",
       "      <td>no_accessibility</td>\n",
       "      <td>low</td>\n",
       "      <td>?</td>\n",
       "      <td>132834</td>\n",
       "    </tr>\n",
       "  </tbody>\n",
       "</table>\n",
       "</div>"
      ],
      "text/plain": [
       "                                 name                                 address  \\\n",
       "0              Tortas Locas Hipocampo          Venustiano Carranza 719 Centro   \n",
       "1                     puesto de tacos  esquina santos degollado y leon guzman   \n",
       "2  Cafeteria y Restaurant El Pacifico                 Constitucion 200 Centro   \n",
       "4              La Cantina Restaurante               Ignacio Aldama 300 Centro   \n",
       "6                 Gorditas Doa Gloria                  sevilla y olmedo 715 a   \n",
       "\n",
       "     zip            alcohol   smoking_area dress_code     accessibility  \\\n",
       "0  78000  No_Alcohol_Served  not permitted   informal  no_accessibility   \n",
       "1  78280  No_Alcohol_Served           none   informal        completely   \n",
       "2  78000          Wine-Beer        section   informal  no_accessibility   \n",
       "4  78000           Full_Bar           none   informal  no_accessibility   \n",
       "6  78349  No_Alcohol_Served  not permitted     casual  no_accessibility   \n",
       "\n",
       "    price               url  placeID  \n",
       "0  medium                 ?   135085  \n",
       "1     low                 ?   132825  \n",
       "2  medium                 ?   135032  \n",
       "4    high  lacantinaslp.com   135052  \n",
       "6     low                 ?   132834  "
      ]
     },
     "execution_count": 2,
     "metadata": {},
     "output_type": "execute_result"
    }
   ],
   "source": [
    "sys = PopularitySystem()\n",
    "sys.generate_recommendations(5)"
   ]
  },
  {
   "cell_type": "markdown",
   "metadata": {},
   "source": [
    "# Correlation Based Recommendation System\n",
    "#### Uses Pearson R Correlation Coefficient to recommend restaurants favored by fans of the input restaurant."
   ]
  },
  {
   "cell_type": "code",
   "execution_count": 3,
   "metadata": {},
   "outputs": [
    {
     "data": {
      "text/html": [
       "<div>\n",
       "<style scoped>\n",
       "    .dataframe tbody tr th:only-of-type {\n",
       "        vertical-align: middle;\n",
       "    }\n",
       "\n",
       "    .dataframe tbody tr th {\n",
       "        vertical-align: top;\n",
       "    }\n",
       "\n",
       "    .dataframe thead th {\n",
       "        text-align: right;\n",
       "    }\n",
       "</style>\n",
       "<table border=\"1\" class=\"dataframe\">\n",
       "  <thead>\n",
       "    <tr style=\"text-align: right;\">\n",
       "      <th></th>\n",
       "      <th>name</th>\n",
       "      <th>address</th>\n",
       "      <th>zip</th>\n",
       "      <th>alcohol</th>\n",
       "      <th>smoking_area</th>\n",
       "      <th>dress_code</th>\n",
       "      <th>accessibility</th>\n",
       "      <th>price</th>\n",
       "      <th>url</th>\n",
       "      <th>PearsonR</th>\n",
       "      <th>placeID</th>\n",
       "    </tr>\n",
       "  </thead>\n",
       "  <tbody>\n",
       "    <tr>\n",
       "      <th>0</th>\n",
       "      <td>Unicols Pizza</td>\n",
       "      <td>Plaza del Carmen</td>\n",
       "      <td>?</td>\n",
       "      <td>Wine-Beer</td>\n",
       "      <td>none</td>\n",
       "      <td>informal</td>\n",
       "      <td>completely</td>\n",
       "      <td>low</td>\n",
       "      <td>?</td>\n",
       "      <td>1.0</td>\n",
       "      <td>132856</td>\n",
       "    </tr>\n",
       "    <tr>\n",
       "      <th>1</th>\n",
       "      <td>crudalia</td>\n",
       "      <td>?</td>\n",
       "      <td>?</td>\n",
       "      <td>Wine-Beer</td>\n",
       "      <td>section</td>\n",
       "      <td>casual</td>\n",
       "      <td>completely</td>\n",
       "      <td>low</td>\n",
       "      <td>?</td>\n",
       "      <td>1.0</td>\n",
       "      <td>132921</td>\n",
       "    </tr>\n",
       "    <tr>\n",
       "      <th>2</th>\n",
       "      <td>La Virreina</td>\n",
       "      <td>Av. Carranza 830</td>\n",
       "      <td>?</td>\n",
       "      <td>Wine-Beer</td>\n",
       "      <td>none</td>\n",
       "      <td>informal</td>\n",
       "      <td>no_accessibility</td>\n",
       "      <td>medium</td>\n",
       "      <td>?</td>\n",
       "      <td>1.0</td>\n",
       "      <td>135028</td>\n",
       "    </tr>\n",
       "    <tr>\n",
       "      <th>4</th>\n",
       "      <td>La Cantina Restaurante</td>\n",
       "      <td>Ignacio Aldama 300 Centro</td>\n",
       "      <td>78000</td>\n",
       "      <td>Full_Bar</td>\n",
       "      <td>none</td>\n",
       "      <td>informal</td>\n",
       "      <td>no_accessibility</td>\n",
       "      <td>high</td>\n",
       "      <td>lacantinaslp.com</td>\n",
       "      <td>1.0</td>\n",
       "      <td>135052</td>\n",
       "    </tr>\n",
       "    <tr>\n",
       "      <th>6</th>\n",
       "      <td>Luna Cafe</td>\n",
       "      <td>Francisco I. Madero 215</td>\n",
       "      <td>?</td>\n",
       "      <td>Wine-Beer</td>\n",
       "      <td>none</td>\n",
       "      <td>informal</td>\n",
       "      <td>no_accessibility</td>\n",
       "      <td>medium</td>\n",
       "      <td>lunacafe.com.mx</td>\n",
       "      <td>1.0</td>\n",
       "      <td>135041</td>\n",
       "    </tr>\n",
       "  </tbody>\n",
       "</table>\n",
       "</div>"
      ],
      "text/plain": [
       "                     name                    address    zip    alcohol  \\\n",
       "0           Unicols Pizza           Plaza del Carmen      ?  Wine-Beer   \n",
       "1                crudalia                          ?      ?  Wine-Beer   \n",
       "2             La Virreina           Av. Carranza 830      ?  Wine-Beer   \n",
       "4  La Cantina Restaurante  Ignacio Aldama 300 Centro  78000   Full_Bar   \n",
       "6               Luna Cafe    Francisco I. Madero 215      ?  Wine-Beer   \n",
       "\n",
       "  smoking_area dress_code     accessibility   price               url  \\\n",
       "0         none   informal        completely     low                 ?   \n",
       "1      section     casual        completely     low                 ?   \n",
       "2         none   informal  no_accessibility  medium                 ?   \n",
       "4         none   informal  no_accessibility    high  lacantinaslp.com   \n",
       "6         none   informal  no_accessibility  medium   lunacafe.com.mx   \n",
       "\n",
       "   PearsonR  placeID  \n",
       "0       1.0   132856  \n",
       "1       1.0   132921  \n",
       "2       1.0   135028  \n",
       "4       1.0   135052  \n",
       "6       1.0   135041  "
      ]
     },
     "execution_count": 3,
     "metadata": {},
     "output_type": "execute_result"
    }
   ],
   "source": [
    "sys = CorrelationSystem()\n",
    "sys.generate_recommendations(name=\"Restaurante Tiberius\", n=5)"
   ]
  },
  {
   "cell_type": "markdown",
   "metadata": {},
   "source": [
    "# Classification Based Recommendation System"
   ]
  },
  {
   "cell_type": "code",
   "execution_count": 4,
   "metadata": {},
   "outputs": [
    {
     "data": {
      "text/plain": [
       "Classification Based Product Recommendation System. Uses Logistic Regression to determine user-product match."
      ]
     },
     "execution_count": 4,
     "metadata": {},
     "output_type": "execute_result"
    }
   ],
   "source": [
    "sys = ClassificationSystem()\n",
    "sys"
   ]
  },
  {
   "cell_type": "code",
   "execution_count": 5,
   "metadata": {},
   "outputs": [
    {
     "data": {
      "text/plain": [
       "\"User's preferences indicate that they should be recommended this product.\""
      ]
     },
     "execution_count": 5,
     "metadata": {},
     "output_type": "execute_result"
    }
   ],
   "source": [
    "user1 = [0, 0, 0, 0, 1, 0, 0, 0, 0, 0, 0, 0, 0, 0, 0, 0, 0, 0, 0]\n",
    "sys.generate_recommendations(user1)"
   ]
  },
  {
   "cell_type": "code",
   "execution_count": 6,
   "metadata": {},
   "outputs": [
    {
     "data": {
      "text/plain": [
       "\"User's preferences indicate that they should NOT be recommended this product.\""
      ]
     },
     "execution_count": 6,
     "metadata": {},
     "output_type": "execute_result"
    }
   ],
   "source": [
    "user2 = [0, 0, 0, 0, 0, 0, 0, 0, 0, 0, 0, 1, 0, 0, 1, 0, 0, 0, 0]\n",
    "sys.generate_recommendations(user2)"
   ]
  },
  {
   "cell_type": "markdown",
   "metadata": {},
   "source": [
    "# Model Based Collaborative Filter\n",
    "#### Uses Truncated Singular Value Decomposition to Find Preferred Movies of Those who Favored the Input Movie"
   ]
  },
  {
   "cell_type": "code",
   "execution_count": 2,
   "metadata": {},
   "outputs": [
    {
     "name": "stdout",
     "output_type": "stream",
     "text": [
      "Model Based Movie Recommendation System. Uses Singular Value Decomposition Trained: False\n"
     ]
    },
    {
     "data": {
      "text/plain": [
       "['Terminator 2: Judgment Day (1991)',\n",
       " 'Terminator, The (1984)',\n",
       " 'Fugitive, The (1993)',\n",
       " 'Raiders of the Lost Ark (1981)',\n",
       " 'Empire Strikes Back, The (1980)',\n",
       " 'Indiana Jones and the Last Crusade (1989)']"
      ]
     },
     "execution_count": 2,
     "metadata": {},
     "output_type": "execute_result"
    }
   ],
   "source": [
    "sys = ModelSystem()\n",
    "print(sys)\n",
    "sys.generate_recommendations(\"Die Hard (1988)\", 6)"
   ]
  },
  {
   "cell_type": "markdown",
   "metadata": {},
   "source": [
    "# Content Based Collaborative Filter\n"
   ]
  }
 ],
 "metadata": {
  "kernelspec": {
   "display_name": "Python 3",
   "language": "python",
   "name": "python3"
  },
  "language_info": {
   "codemirror_mode": {
    "name": "ipython",
    "version": 3
   },
   "file_extension": ".py",
   "mimetype": "text/x-python",
   "name": "python",
   "nbconvert_exporter": "python",
   "pygments_lexer": "ipython3",
   "version": "3.6.6"
  }
 },
 "nbformat": 4,
 "nbformat_minor": 2
}
